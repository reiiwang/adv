{
 "cells": [
  {
   "cell_type": "code",
   "execution_count": 2,
   "id": "2eb6ef45",
   "metadata": {},
   "outputs": [],
   "source": [
    "import pandas as pd\n",
    "import numpy as np\n",
    "import matplotlib.pyplot as plt\n",
    "import random\n",
    "from sklearn.model_selection import train_test_split\n",
    "from sklearn.metrics import confusion_matrix\n",
    "from sklearn import ensemble, metrics\n",
    "import copy\n",
    "from sklearn import preprocessing\n",
    "from numpy import median\n",
    "from sklearn.metrics.pairwise import cosine_similarity\n",
    "from sklearn.preprocessing import MinMaxScaler"
   ]
  },
  {
   "cell_type": "markdown",
   "id": "08405226",
   "metadata": {},
   "source": [
    "#### read data"
   ]
  },
  {
   "cell_type": "code",
   "execution_count": 4,
   "id": "55eace9c",
   "metadata": {},
   "outputs": [],
   "source": [
    "total = pd.read_csv('total_data.csv')\n",
    "fake = total[total['isFake'] == 1]\n",
    "real = total[total['isFake'] == 0]"
   ]
  },
  {
   "cell_type": "markdown",
   "id": "82db8e7e",
   "metadata": {},
   "source": [
    "#### setting seed and output file name"
   ]
  },
  {
   "cell_type": "code",
   "execution_count": 5,
   "id": "b8e9f3f3",
   "metadata": {},
   "outputs": [],
   "source": [
    "test_seed = 8\n",
    "num = 180\n",
    "num_seed = 55"
   ]
  },
  {
   "cell_type": "code",
   "execution_count": 6,
   "id": "10629c69",
   "metadata": {
    "scrolled": true
   },
   "outputs": [
    {
     "data": {
      "text/plain": [
       "'smote8_180_55.csv'"
      ]
     },
     "execution_count": 6,
     "metadata": {},
     "output_type": "execute_result"
    }
   ],
   "source": [
    "outfile = 'smote'+str(test_seed)+'_'+str(num)+'_'+str(num_seed)+'.csv'\n",
    "outfile"
   ]
  },
  {
   "cell_type": "markdown",
   "id": "dd3f13dc",
   "metadata": {},
   "source": [
    "#### confirm the test data and sample the target to attack"
   ]
  },
  {
   "cell_type": "code",
   "execution_count": 7,
   "id": "3342e00b",
   "metadata": {},
   "outputs": [],
   "source": [
    "ori_data = copy.deepcopy(total)\n",
    "ori_y = ori_data['isFake']\n",
    "ori_X = ori_data.drop(['isFake'],axis=1)\n",
    "ori_X_train, ori_X_test, ori_y_train, ori_y_test=train_test_split(ori_X,ori_y,test_size=0.2,random_state=test_seed,stratify=ori_y)"
   ]
  },
  {
   "cell_type": "code",
   "execution_count": 8,
   "id": "26f0dba6",
   "metadata": {
    "scrolled": true
   },
   "outputs": [
    {
     "data": {
      "text/plain": [
       "320"
      ]
     },
     "execution_count": 8,
     "metadata": {},
     "output_type": "execute_result"
    }
   ],
   "source": [
    "s1 = set(ori_X_test.index)\n",
    "s1 = np.array(list(s1))\n",
    "s = s1[s1<200]\n",
    "location = []\n",
    "loc = list(s*8)\n",
    "for i in range(len(loc)):\n",
    "    for j in range(8):\n",
    "        location.append(loc[i]+j)\n",
    "len(location)"
   ]
  },
  {
   "cell_type": "markdown",
   "id": "63a9bb7d",
   "metadata": {},
   "source": [
    "#### make a filter"
   ]
  },
  {
   "cell_type": "code",
   "execution_count": 9,
   "id": "97965353",
   "metadata": {},
   "outputs": [],
   "source": [
    "random.seed(num_seed)\n",
    "fea = random.sample(location,num)"
   ]
  },
  {
   "cell_type": "code",
   "execution_count": 10,
   "id": "7aafdcad",
   "metadata": {},
   "outputs": [
    {
     "data": {
      "text/plain": [
       "40"
      ]
     },
     "execution_count": 10,
     "metadata": {},
     "output_type": "execute_result"
    }
   ],
   "source": [
    "att_fea_loc = []\n",
    "row_index = []\n",
    "for i in range(len(fea)):\n",
    "    att_fea_loc.append([fea[i]//8, fea[i]%8])\n",
    "    row_index.append(fea[i]//8)\n",
    "row_index = set(row_index)\n",
    "len(row_index)"
   ]
  },
  {
   "cell_type": "code",
   "execution_count": 11,
   "id": "4fd7af5a",
   "metadata": {},
   "outputs": [
    {
     "data": {
      "text/plain": [
       "array([[0., 0., 0., ..., 0., 0., 0.],\n",
       "       [0., 0., 0., ..., 0., 0., 0.],\n",
       "       [0., 0., 0., ..., 0., 0., 0.],\n",
       "       ...,\n",
       "       [0., 0., 0., ..., 0., 0., 0.],\n",
       "       [0., 0., 0., ..., 0., 0., 0.],\n",
       "       [0., 0., 0., ..., 0., 0., 0.]])"
      ]
     },
     "execution_count": 11,
     "metadata": {},
     "output_type": "execute_result"
    }
   ],
   "source": [
    "fil = np.zeros((200, 8))\n",
    "fil"
   ]
  },
  {
   "cell_type": "code",
   "execution_count": 12,
   "id": "c6f347f2",
   "metadata": {},
   "outputs": [],
   "source": [
    "f_t_y = copy.deepcopy(total)\n",
    "f_t = f_t_y.drop('isFake',axis=1)\n",
    "\n",
    "f_f_y = copy.deepcopy(fake)\n",
    "f_f = f_f_y.drop('isFake',axis=1)\n",
    "\n",
    "f_r_y = copy.deepcopy(real)\n",
    "f_r = f_r_y.drop('isFake',axis=1)"
   ]
  },
  {
   "cell_type": "code",
   "execution_count": 13,
   "id": "43cb4f0f",
   "metadata": {},
   "outputs": [],
   "source": [
    "scaler = MinMaxScaler()"
   ]
  },
  {
   "cell_type": "markdown",
   "id": "58ad073c",
   "metadata": {},
   "source": [
    "#### define the interpolation"
   ]
  },
  {
   "cell_type": "code",
   "execution_count": 14,
   "id": "c18d6055",
   "metadata": {},
   "outputs": [],
   "source": [
    "def how_close_to_real(diff,real_c):\n",
    "    #random.seed(12)\n",
    "    fake_c = (1-real_c)\n",
    "    new_fake = []\n",
    "    for i in range(len(diff)):\n",
    "        if diff[i][0] == diff[i][1]:\n",
    "            new_fake.append(diff[i][0])\n",
    "        if abs(diff[i][0] - diff[i][1])==1:\n",
    "            new_fake.append(diff[i][1])\n",
    "        if abs(diff[i][0] - diff[i][1])==2:\n",
    "            new_fake.append(int((diff[i][0]+diff[i][1])/2))\n",
    "        if abs(diff[i][0] - diff[i][1])>2:\n",
    "            if (real_c!=0):\n",
    "                #diff[i] = sorted(diff[i])\n",
    "                if diff[i][0] < diff[i][1] :\n",
    "#                     print(round(real_c*diff[i][0]+fake_c*diff[i][1]),(diff[i][1]-1))\n",
    "                    new_fake.append( random.randint( round(real_c*diff[i][0]+fake_c*diff[i][1]) , (diff[i][1]-1) ) )\n",
    "                if diff[i][0] > diff[i][1] :\n",
    "                    new_fake.append( random.randint( round(fake_c*diff[i][0]+real_c*diff[i][1]) , (diff[i][0]-1) ) )\n",
    "            if (real_c==0):\n",
    "                new_fake.append(diff[i][1])\n",
    "    return new_fake"
   ]
  },
  {
   "cell_type": "markdown",
   "id": "9b555d4a",
   "metadata": {},
   "source": [
    "#### reverse smote attack method"
   ]
  },
  {
   "cell_type": "code",
   "execution_count": 15,
   "id": "ecb636aa",
   "metadata": {},
   "outputs": [],
   "source": [
    "def Smote(n_real):\n",
    "#     real_seed = 4\n",
    "#     n_real = 4\n",
    "#     fake_seed = 6\n",
    "#     n_fake = 6\n",
    "    \n",
    "#     def sampled_real_concat_fake(real_seed, n_real, fake_seed, n_fake):\n",
    "#     np.random.seed(real_seed)\n",
    "    number_of_rows = f_r_y.shape[0]\n",
    "    random_indices = np.random.choice(number_of_rows, size=n_real, replace=False)\n",
    "    random_rows_real = f_r_y.iloc[random_indices]\n",
    "\n",
    "#     np.random.seed(fake_seed)\n",
    "#     number_of_rows = f_f_y.shape[0]\n",
    "#     random_indices = np.random.choice(number_of_rows, size=n_fake, replace=False)\n",
    "    random_rows_fake = f_f_y.iloc[list(row_index)]\n",
    "\n",
    "    concat_df = pd.concat([random_rows_real, random_rows_fake])\n",
    "#     print(df)\n",
    "    \n",
    "#     concat_df = sampled_real_concat_fake(real_seed, n_real)\n",
    "    mm_scalar = scaler.fit_transform(concat_df)\n",
    "    fake_index = concat_df[concat_df['isFake']==1].index\n",
    "    real_index = concat_df[concat_df['isFake']==0].index\n",
    "\n",
    "    est = []\n",
    "    fake = mm_scalar[mm_scalar[:,8] == 1]\n",
    "    real = mm_scalar[mm_scalar[:,8] == 0]\n",
    "    for i in range(len(fake)):\n",
    "        dis = {}\n",
    "        for j in range(len(real)):\n",
    "            vec1 = fake[i]\n",
    "            vec2 = real[j]\n",
    "            dis[real_index[j]] = np.sqrt(sum(pow(vec1-vec2,2)))\n",
    "            #dis[real_index[j]] = cosine_similarity([vec1], [vec2])\n",
    "        dis = {k: v for k, v in sorted(dis.items(), key=lambda item: item[1])}\n",
    "        est.append(list(dis.keys())[0])\n",
    "    ##### est存放與各個fake account最相近的real account的index\n",
    "    \n",
    "    feature = dict(zip((0,1,2,3,4,5,6,7),tuple(total.columns[0:8])))\n",
    "#     print(feature)\n",
    "    \n",
    "    all_f = []\n",
    "    for i in range(len(fake_index)):\n",
    "        new_fake = []\n",
    "        for col in range(8):    \n",
    "            if col in [0,1,2,3,6,7]:\n",
    "                if fil[i][col] == 1:\n",
    "                    diff_p = [[concat_df.loc[fake_index[i]][feature[col]],concat_df.loc[est[i]][feature[col]]]]\n",
    "#                     print(col,diff_p)\n",
    "                    n = how_close_to_real(diff_p,0.2)\n",
    "#                     print(n)\n",
    "                    new_fake.append(n[0])\n",
    "                if fil[i][col] == 0:\n",
    "                    new_fake.append(total.iloc[fake_index[i]][feature[col]])\n",
    "            if col in [4,5]:\n",
    "                if fil[i][col] == 1:\n",
    "                    diff_p = [[concat_df.loc[fake_index[i]][feature[col]],concat_df.loc[est[i]][feature[col]]]]\n",
    "#                     print(col,diff_p)\n",
    "                    if diff_p[0][0] == diff_p[0][1]:\n",
    "                        new_fake.append(diff_p[0][0])\n",
    "                    if diff_p[0][0] != diff_p[0][1]:\n",
    "                        new_fake.append(diff_p[0][1])\n",
    "                if fil[i][col] == 0:\n",
    "                    new_fake.append(total.iloc[fake_index[i]][feature[col]])\n",
    "        all_f.append(new_fake)\n",
    "        \n",
    "    return all_f"
   ]
  },
  {
   "cell_type": "markdown",
   "id": "68aa8ba3",
   "metadata": {},
   "source": [
    "#### get the adversarial sample and output a dataset with adv. sample"
   ]
  },
  {
   "cell_type": "code",
   "execution_count": 16,
   "id": "19f101bd",
   "metadata": {},
   "outputs": [],
   "source": [
    "nf = Smote(len(row_index))"
   ]
  },
  {
   "cell_type": "code",
   "execution_count": 17,
   "id": "a269c335",
   "metadata": {},
   "outputs": [],
   "source": [
    "new_fake_df = pd.DataFrame(nf, columns = f_t.columns, index = list(row_index))\n",
    "new_fake_df['isFake'] = [1 for i in range(len(row_index))]"
   ]
  },
  {
   "cell_type": "code",
   "execution_count": 18,
   "id": "b6ca64c3",
   "metadata": {},
   "outputs": [
    {
     "data": {
      "text/html": [
       "<div>\n",
       "<style scoped>\n",
       "    .dataframe tbody tr th:only-of-type {\n",
       "        vertical-align: middle;\n",
       "    }\n",
       "\n",
       "    .dataframe tbody tr th {\n",
       "        vertical-align: top;\n",
       "    }\n",
       "\n",
       "    .dataframe thead th {\n",
       "        text-align: right;\n",
       "    }\n",
       "</style>\n",
       "<table border=\"1\" class=\"dataframe\">\n",
       "  <thead>\n",
       "    <tr style=\"text-align: right;\">\n",
       "      <th></th>\n",
       "      <th>userFollowerCount</th>\n",
       "      <th>userFollowingCount</th>\n",
       "      <th>userBiographyLength</th>\n",
       "      <th>userMediaCount</th>\n",
       "      <th>userHasProfilPic</th>\n",
       "      <th>userIsPrivate</th>\n",
       "      <th>usernameDigitCount</th>\n",
       "      <th>usernameLength</th>\n",
       "      <th>isFake</th>\n",
       "    </tr>\n",
       "  </thead>\n",
       "  <tbody>\n",
       "    <tr>\n",
       "      <th>0</th>\n",
       "      <td>25</td>\n",
       "      <td>1937</td>\n",
       "      <td>0</td>\n",
       "      <td>0</td>\n",
       "      <td>1</td>\n",
       "      <td>1</td>\n",
       "      <td>0</td>\n",
       "      <td>10</td>\n",
       "      <td>1</td>\n",
       "    </tr>\n",
       "    <tr>\n",
       "      <th>2</th>\n",
       "      <td>15</td>\n",
       "      <td>399</td>\n",
       "      <td>0</td>\n",
       "      <td>0</td>\n",
       "      <td>0</td>\n",
       "      <td>0</td>\n",
       "      <td>3</td>\n",
       "      <td>12</td>\n",
       "      <td>1</td>\n",
       "    </tr>\n",
       "    <tr>\n",
       "      <th>4</th>\n",
       "      <td>264</td>\n",
       "      <td>4651</td>\n",
       "      <td>0</td>\n",
       "      <td>0</td>\n",
       "      <td>1</td>\n",
       "      <td>0</td>\n",
       "      <td>0</td>\n",
       "      <td>14</td>\n",
       "      <td>1</td>\n",
       "    </tr>\n",
       "    <tr>\n",
       "      <th>5</th>\n",
       "      <td>33</td>\n",
       "      <td>1470</td>\n",
       "      <td>0</td>\n",
       "      <td>2</td>\n",
       "      <td>1</td>\n",
       "      <td>1</td>\n",
       "      <td>4</td>\n",
       "      <td>13</td>\n",
       "      <td>1</td>\n",
       "    </tr>\n",
       "    <tr>\n",
       "      <th>6</th>\n",
       "      <td>420</td>\n",
       "      <td>4883</td>\n",
       "      <td>30</td>\n",
       "      <td>8</td>\n",
       "      <td>1</td>\n",
       "      <td>0</td>\n",
       "      <td>0</td>\n",
       "      <td>12</td>\n",
       "      <td>1</td>\n",
       "    </tr>\n",
       "    <tr>\n",
       "      <th>...</th>\n",
       "      <td>...</td>\n",
       "      <td>...</td>\n",
       "      <td>...</td>\n",
       "      <td>...</td>\n",
       "      <td>...</td>\n",
       "      <td>...</td>\n",
       "      <td>...</td>\n",
       "      <td>...</td>\n",
       "      <td>...</td>\n",
       "    </tr>\n",
       "    <tr>\n",
       "      <th>1189</th>\n",
       "      <td>239</td>\n",
       "      <td>1134</td>\n",
       "      <td>145</td>\n",
       "      <td>9</td>\n",
       "      <td>1</td>\n",
       "      <td>0</td>\n",
       "      <td>0</td>\n",
       "      <td>19</td>\n",
       "      <td>0</td>\n",
       "    </tr>\n",
       "    <tr>\n",
       "      <th>1190</th>\n",
       "      <td>91</td>\n",
       "      <td>149</td>\n",
       "      <td>0</td>\n",
       "      <td>7</td>\n",
       "      <td>1</td>\n",
       "      <td>0</td>\n",
       "      <td>0</td>\n",
       "      <td>18</td>\n",
       "      <td>0</td>\n",
       "    </tr>\n",
       "    <tr>\n",
       "      <th>1191</th>\n",
       "      <td>78</td>\n",
       "      <td>783</td>\n",
       "      <td>28</td>\n",
       "      <td>1</td>\n",
       "      <td>1</td>\n",
       "      <td>0</td>\n",
       "      <td>0</td>\n",
       "      <td>11</td>\n",
       "      <td>0</td>\n",
       "    </tr>\n",
       "    <tr>\n",
       "      <th>1192</th>\n",
       "      <td>135</td>\n",
       "      <td>517</td>\n",
       "      <td>44</td>\n",
       "      <td>4</td>\n",
       "      <td>1</td>\n",
       "      <td>0</td>\n",
       "      <td>4</td>\n",
       "      <td>11</td>\n",
       "      <td>0</td>\n",
       "    </tr>\n",
       "    <tr>\n",
       "      <th>1193</th>\n",
       "      <td>203</td>\n",
       "      <td>823</td>\n",
       "      <td>71</td>\n",
       "      <td>4</td>\n",
       "      <td>1</td>\n",
       "      <td>0</td>\n",
       "      <td>0</td>\n",
       "      <td>12</td>\n",
       "      <td>0</td>\n",
       "    </tr>\n",
       "  </tbody>\n",
       "</table>\n",
       "<p>1154 rows × 9 columns</p>\n",
       "</div>"
      ],
      "text/plain": [
       "      userFollowerCount  userFollowingCount  userBiographyLength  \\\n",
       "0                    25                1937                    0   \n",
       "2                    15                 399                    0   \n",
       "4                   264                4651                    0   \n",
       "5                    33                1470                    0   \n",
       "6                   420                4883                   30   \n",
       "...                 ...                 ...                  ...   \n",
       "1189                239                1134                  145   \n",
       "1190                 91                 149                    0   \n",
       "1191                 78                 783                   28   \n",
       "1192                135                 517                   44   \n",
       "1193                203                 823                   71   \n",
       "\n",
       "      userMediaCount  userHasProfilPic  userIsPrivate  usernameDigitCount  \\\n",
       "0                  0                 1              1                   0   \n",
       "2                  0                 0              0                   3   \n",
       "4                  0                 1              0                   0   \n",
       "5                  2                 1              1                   4   \n",
       "6                  8                 1              0                   0   \n",
       "...              ...               ...            ...                 ...   \n",
       "1189               9                 1              0                   0   \n",
       "1190               7                 1              0                   0   \n",
       "1191               1                 1              0                   0   \n",
       "1192               4                 1              0                   4   \n",
       "1193               4                 1              0                   0   \n",
       "\n",
       "      usernameLength  isFake  \n",
       "0                 10       1  \n",
       "2                 12       1  \n",
       "4                 14       1  \n",
       "5                 13       1  \n",
       "6                 12       1  \n",
       "...              ...     ...  \n",
       "1189              19       0  \n",
       "1190              18       0  \n",
       "1191              11       0  \n",
       "1192              11       0  \n",
       "1193              12       0  \n",
       "\n",
       "[1154 rows x 9 columns]"
      ]
     },
     "execution_count": 18,
     "metadata": {},
     "output_type": "execute_result"
    }
   ],
   "source": [
    "com_1 = total.iloc[list(set(list(total.index))-set(list(new_fake_df.index)))]\n",
    "com_1"
   ]
  },
  {
   "cell_type": "code",
   "execution_count": 19,
   "id": "2033e660",
   "metadata": {},
   "outputs": [],
   "source": [
    "export = pd.concat((new_fake_df,com_1))\n",
    "export = export.sort_index(axis=0)"
   ]
  },
  {
   "cell_type": "code",
   "execution_count": 20,
   "id": "afb1035e",
   "metadata": {},
   "outputs": [],
   "source": [
    "# export.to_csv(outfile)"
   ]
  },
  {
   "cell_type": "code",
   "execution_count": null,
   "id": "ea5e0c45",
   "metadata": {},
   "outputs": [],
   "source": []
  }
 ],
 "metadata": {
  "kernelspec": {
   "display_name": "Python 3 (ipykernel)",
   "language": "python",
   "name": "python3"
  },
  "language_info": {
   "codemirror_mode": {
    "name": "ipython",
    "version": 3
   },
   "file_extension": ".py",
   "mimetype": "text/x-python",
   "name": "python",
   "nbconvert_exporter": "python",
   "pygments_lexer": "ipython3",
   "version": "3.10.4"
  }
 },
 "nbformat": 4,
 "nbformat_minor": 5
}
